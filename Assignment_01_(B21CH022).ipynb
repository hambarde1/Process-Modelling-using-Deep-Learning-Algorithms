{
  "nbformat": 4,
  "nbformat_minor": 0,
  "metadata": {
    "colab": {
      "provenance": [],
      "gpuType": "T4"
    },
    "kernelspec": {
      "name": "python3",
      "display_name": "Python 3"
    },
    "language_info": {
      "name": "python"
    },
    "accelerator": "GPU"
  },
  "cells": [
    {
      "cell_type": "markdown",
      "source": [
        "\n",
        "\n",
        "*   NAME- PIYUSH HAMBARDE\n",
        "*   ROLL NUMBER - B21CH022\n",
        "*   ASSIGNMENT-1\n",
        "\n",
        "\n",
        "\n",
        "\n"
      ],
      "metadata": {
        "id": "FPtYvLnBWQIE"
      }
    },
    {
      "cell_type": "code",
      "source": [
        "import numpy as np\n",
        "import pandas as pd"
      ],
      "metadata": {
        "id": "0BIveHDQQsB4"
      },
      "execution_count": null,
      "outputs": []
    },
    {
      "cell_type": "code",
      "execution_count": null,
      "metadata": {
        "id": "gqEfIhqXmq90"
      },
      "outputs": [],
      "source": [
        "#Imports\n",
        "import torch\n",
        "import torch.nn as nn #Has all the NN models\n",
        "import torch.optim as optim # adam,SGD\n",
        "import torch.nn.functional as F #Activation functions\n",
        "import matplotlib as plt\n",
        "import seaborn as sns\n",
        "import matplotlib.pyplot as plt\n",
        "from sklearn.metrics import mean_squared_error, mean_absolute_error, r2_score"
      ]
    },
    {
      "cell_type": "code",
      "source": [
        "device = torch.device('cuda' if torch.cuda.is_available() else 'cpu')"
      ],
      "metadata": {
        "id": "652P-CjndPCf"
      },
      "execution_count": null,
      "outputs": []
    },
    {
      "cell_type": "code",
      "source": [
        "#Create RNN\n",
        "class RNN(nn.Module):\n",
        "  def __init__(self):\n",
        "    super(RNN, self).__init__()\n",
        "    self.rnn = nn.RNN(input_size = 2,hidden_size = 64,num_layers =1 , batch_first=True)\n",
        "    self.fc = nn.Linear(64,2)\n",
        "\n",
        "  def forward(self, x):\n",
        "\n",
        "    #Forward Propagation\n",
        "    x = x.view(x.size(0), -1, x.size(1))\n",
        "    out, _ = self.rnn(x)\n",
        "    out = self.fc(out[:,-1,:])\n",
        "    return out"
      ],
      "metadata": {
        "id": "MoIHVs-1FckC"
      },
      "execution_count": null,
      "outputs": []
    },
    {
      "cell_type": "code",
      "source": [
        "#Hyperparameters\n",
        "input_size = 2 #Number of input features i.e., V1 and V2\n",
        "num_layers = 1\n",
        "hidden_size = 64\n",
        "num_classes= 2 # NUmber of output features i.e., y1 and y2\n",
        "learning_rate = 0.01\n"
      ],
      "metadata": {
        "id": "7fhAvRESxtmp"
      },
      "execution_count": null,
      "outputs": []
    },
    {
      "cell_type": "markdown",
      "source": [
        "DATA HANDLING"
      ],
      "metadata": {
        "id": "0np-2wpWWCxJ"
      }
    },
    {
      "cell_type": "code",
      "source": [
        "#Load Data\n",
        "test = pd.read_csv(r'/content/Testing_data.csv')\n",
        "train = pd.read_csv(r'/content/Training_data.csv')\n"
      ],
      "metadata": {
        "id": "apuu0F2VJ9px"
      },
      "execution_count": null,
      "outputs": []
    },
    {
      "cell_type": "code",
      "source": [
        "x_train = train.iloc[:,1:3]\n",
        "y_train = train.iloc[:,3:5]\n",
        "x = x_train.to_numpy()\n",
        "y = y_train.to_numpy()\n"
      ],
      "metadata": {
        "id": "WWjaKJiVLsIx"
      },
      "execution_count": null,
      "outputs": []
    },
    {
      "cell_type": "code",
      "source": [
        "X_train = torch.tensor(x, dtype=torch.float32).to(device)\n",
        "Y_train = torch.tensor(y,dtype=torch.float32).to(device)\n"
      ],
      "metadata": {
        "id": "zpqsD_vBL0qK"
      },
      "execution_count": null,
      "outputs": []
    },
    {
      "cell_type": "code",
      "source": [
        "x_test = test.iloc[:,1:3]\n",
        "y_test = test.iloc[:,3:5]\n",
        "xt = x_test.to_numpy()\n",
        "yt = y_test.to_numpy()"
      ],
      "metadata": {
        "id": "0BHNNYj2M96W"
      },
      "execution_count": null,
      "outputs": []
    },
    {
      "cell_type": "code",
      "source": [
        "X_test = torch.tensor(xt,dtype=torch.float32).to(device)\n",
        "Y_test = torch.tensor(yt, dtype=torch.float32).to(device)"
      ],
      "metadata": {
        "id": "md7uicMBJb57"
      },
      "execution_count": null,
      "outputs": []
    },
    {
      "cell_type": "code",
      "source": [
        "plt.plot(x_test['V1'], label='test_input')\n",
        "plt.plot(x_train['V1'], label = 'train_input')\n",
        "plt.title(\"Training and Testing input\")\n",
        "plt.legend()\n",
        "plt.show()\n"
      ],
      "metadata": {
        "colab": {
          "base_uri": "https://localhost:8080/",
          "height": 452
        },
        "id": "jfjTRaE4YSw_",
        "outputId": "406bdb77-395a-48c7-eef1-954e5430c1ca"
      },
      "execution_count": null,
      "outputs": [
        {
          "output_type": "display_data",
          "data": {
            "text/plain": [
              "<Figure size 640x480 with 1 Axes>"
            ],
            "image/png": "[encoded data removed]"
          },
          "metadata": {}
        }
      ]
    },
    {
      "cell_type": "code",
      "source": [
        "plt.plot(y_test['y1'], label='Test_output')\n",
        "plt.plot(y_train['y1'], label = 'Train_output')\n",
        "plt.title(\"Training and Testing output\")\n",
        "plt.legend()\n",
        "plt.show()"
      ],
      "metadata": {
        "colab": {
          "base_uri": "https://localhost:8080/",
          "height": 452
        },
        "id": "i-Vmh2riY1Mu",
        "outputId": "7a604a7f-2f37-4daf-a8ee-d749f800d1f6"
      },
      "execution_count": null,
      "outputs": [
        {
          "output_type": "display_data",
          "data": {
            "text/plain": [
              "<Figure size 640x480 with 1 Axes>"
            ],
            "image/png": "[encoded data removed]"
          },
          "metadata": {}
        }
      ]
    },
    {
      "cell_type": "markdown",
      "source": [
        "TRAINING THE RNN MODEL FOR THE DATA\n"
      ],
      "metadata": {
        "id": "VB9NSC4CV5It"
      }
    },
    {
      "cell_type": "code",
      "source": [
        "#Initialize network\n",
        "rnn=RNN()\n",
        "rnn = rnn.to(device)"
      ],
      "metadata": {
        "id": "NdUerpURRcmz"
      },
      "execution_count": null,
      "outputs": []
    },
    {
      "cell_type": "code",
      "source": [
        "#Loss and Optimizer\n",
        "criterion = nn.L1Loss()\n",
        "optimizer = optim.Adam(rnn.parameters(), lr = learning_rate)\n",
        "print(device)"
      ],
      "metadata": {
        "id": "HkQ_kHKoUNn8",
        "colab": {
          "base_uri": "https://localhost:8080/"
        },
        "outputId": "3a80a470-aca8-4daa-d8b5-53caf172e6f2"
      },
      "execution_count": null,
      "outputs": [
        {
          "output_type": "stream",
          "name": "stdout",
          "text": [
            "cuda\n"
          ]
        }
      ]
    },
    {
      "cell_type": "code",
      "source": [
        "#Train Newtork\n",
        "num_epochs = 100\n",
        "for epoch in range(num_epochs):\n",
        "  rnn.train()\n",
        "  outputs = rnn(X_train)\n",
        "  loss = criterion(outputs,Y_train)\n",
        "  optimizer.zero_grad()\n",
        "  loss.backward()\n",
        "  optimizer.step()\n",
        "\n",
        "  rnn.eval()\n",
        "  test_outputs = rnn(X_test)\n",
        "  test_loss = criterion(test_outputs,Y_test)\n",
        "\n",
        "  print(f'Epoch [{epoch+1}/{num_epochs}], Train Loss: {loss.item(): .4f}, Test Loss: {test_loss.item(): .4f}')\n"
      ],
      "metadata": {
        "id": "H448m5ZgUpqE",
        "colab": {
          "base_uri": "https://localhost:8080/"
        },
        "outputId": "c35e6395-791b-4824-d45f-4d9f64061980"
      },
      "execution_count": null,
      "outputs": [
        {
          "output_type": "stream",
          "name": "stdout",
          "text": [
            "Epoch [1/100], Train Loss:  15.4116, Test Loss:  14.5367\n",
            "Epoch [2/100], Train Loss:  14.5378, Test Loss:  13.7502\n",
            "Epoch [3/100], Train Loss:  13.7531, Test Loss:  13.0162\n",
            "Epoch [4/100], Train Loss:  13.0213, Test Loss:  12.3676\n",
            "Epoch [5/100], Train Loss:  12.3730, Test Loss:  11.7792\n",
            "Epoch [6/100], Train Loss:  11.7842, Test Loss:  11.2012\n",
            "Epoch [7/100], Train Loss:  11.2063, Test Loss:  10.6171\n",
            "Epoch [8/100], Train Loss:  10.6223, Test Loss:  10.0187\n",
            "Epoch [9/100], Train Loss:  10.0240, Test Loss:  9.4185\n",
            "Epoch [10/100], Train Loss:  9.4240, Test Loss:  8.8328\n",
            "Epoch [11/100], Train Loss:  8.8381, Test Loss:  8.2467\n",
            "Epoch [12/100], Train Loss:  8.2520, Test Loss:  7.6443\n",
            "Epoch [13/100], Train Loss:  7.6498, Test Loss:  7.0251\n",
            "Epoch [14/100], Train Loss:  7.0309, Test Loss:  6.3962\n",
            "Epoch [15/100], Train Loss:  6.4020, Test Loss:  5.7670\n",
            "Epoch [16/100], Train Loss:  5.7723, Test Loss:  5.1384\n",
            "Epoch [17/100], Train Loss:  5.1436, Test Loss:  4.5076\n",
            "Epoch [18/100], Train Loss:  4.5126, Test Loss:  3.8736\n",
            "Epoch [19/100], Train Loss:  3.8787, Test Loss:  3.2368\n",
            "Epoch [20/100], Train Loss:  3.2419, Test Loss:  2.5975\n",
            "Epoch [21/100], Train Loss:  2.6025, Test Loss:  1.9559\n",
            "Epoch [22/100], Train Loss:  1.9610, Test Loss:  1.4040\n",
            "Epoch [23/100], Train Loss:  1.4449, Test Loss:  0.9889\n",
            "Epoch [24/100], Train Loss:  1.0505, Test Loss:  0.7288\n",
            "Epoch [25/100], Train Loss:  0.8241, Test Loss:  0.8066\n",
            "Epoch [26/100], Train Loss:  0.8854, Test Loss:  1.0606\n",
            "Epoch [27/100], Train Loss:  1.0972, Test Loss:  1.2917\n",
            "Epoch [28/100], Train Loss:  1.2994, Test Loss:  1.5736\n",
            "Epoch [29/100], Train Loss:  1.5684, Test Loss:  1.7529\n",
            "Epoch [30/100], Train Loss:  1.7477, Test Loss:  1.8407\n",
            "Epoch [31/100], Train Loss:  1.8356, Test Loss:  1.8473\n",
            "Epoch [32/100], Train Loss:  1.8422, Test Loss:  1.7818\n",
            "Epoch [33/100], Train Loss:  1.7767, Test Loss:  1.6521\n",
            "Epoch [34/100], Train Loss:  1.6469, Test Loss:  1.4652\n",
            "Epoch [35/100], Train Loss:  1.4602, Test Loss:  1.2283\n",
            "Epoch [36/100], Train Loss:  1.2450, Test Loss:  1.0378\n",
            "Epoch [37/100], Train Loss:  1.0785, Test Loss:  0.9163\n",
            "Epoch [38/100], Train Loss:  0.8962, Test Loss:  0.8056\n",
            "Epoch [39/100], Train Loss:  0.7828, Test Loss:  0.7420\n",
            "Epoch [40/100], Train Loss:  0.7562, Test Loss:  0.7220\n",
            "Epoch [41/100], Train Loss:  0.7358, Test Loss:  0.7156\n",
            "Epoch [42/100], Train Loss:  0.7147, Test Loss:  0.7298\n",
            "Epoch [43/100], Train Loss:  0.7757, Test Loss:  0.7838\n",
            "Epoch [44/100], Train Loss:  0.8346, Test Loss:  0.8290\n",
            "Epoch [45/100], Train Loss:  0.8530, Test Loss:  0.8550\n",
            "Epoch [46/100], Train Loss:  0.8826, Test Loss:  0.8517\n",
            "Epoch [47/100], Train Loss:  0.8912, Test Loss:  0.8179\n",
            "Epoch [48/100], Train Loss:  0.8588, Test Loss:  0.7484\n",
            "Epoch [49/100], Train Loss:  0.7915, Test Loss:  0.6522\n",
            "Epoch [50/100], Train Loss:  0.7199, Test Loss:  0.5777\n",
            "Epoch [51/100], Train Loss:  0.6640, Test Loss:  0.5204\n",
            "Epoch [52/100], Train Loss:  0.6282, Test Loss:  0.5073\n",
            "Epoch [53/100], Train Loss:  0.6199, Test Loss:  0.5404\n",
            "Epoch [54/100], Train Loss:  0.6232, Test Loss:  0.5743\n",
            "Epoch [55/100], Train Loss:  0.6566, Test Loss:  0.5974\n",
            "Epoch [56/100], Train Loss:  0.6794, Test Loss:  0.6093\n",
            "Epoch [57/100], Train Loss:  0.6913, Test Loss:  0.6107\n",
            "Epoch [58/100], Train Loss:  0.6929, Test Loss:  0.6033\n",
            "Epoch [59/100], Train Loss:  0.6853, Test Loss:  0.5977\n",
            "Epoch [60/100], Train Loss:  0.6691, Test Loss:  0.6034\n",
            "Epoch [61/100], Train Loss:  0.6455, Test Loss:  0.6108\n",
            "Epoch [62/100], Train Loss:  0.6268, Test Loss:  0.6128\n",
            "Epoch [63/100], Train Loss:  0.6278, Test Loss:  0.6076\n",
            "Epoch [64/100], Train Loss:  0.6228, Test Loss:  0.5959\n",
            "Epoch [65/100], Train Loss:  0.6110, Test Loss:  0.5783\n",
            "Epoch [66/100], Train Loss:  0.6036, Test Loss:  0.5615\n",
            "Epoch [67/100], Train Loss:  0.6144, Test Loss:  0.5471\n",
            "Epoch [68/100], Train Loss:  0.6176, Test Loss:  0.5346\n",
            "Epoch [69/100], Train Loss:  0.6119, Test Loss:  0.5223\n",
            "Epoch [70/100], Train Loss:  0.6037, Test Loss:  0.5154\n",
            "Epoch [71/100], Train Loss:  0.6063, Test Loss:  0.5175\n",
            "Epoch [72/100], Train Loss:  0.6026, Test Loss:  0.5280\n",
            "Epoch [73/100], Train Loss:  0.5909, Test Loss:  0.5443\n",
            "Epoch [74/100], Train Loss:  0.5875, Test Loss:  0.5606\n",
            "Epoch [75/100], Train Loss:  0.5881, Test Loss:  0.5747\n",
            "Epoch [76/100], Train Loss:  0.5909, Test Loss:  0.5818\n",
            "Epoch [77/100], Train Loss:  0.5969, Test Loss:  0.5807\n",
            "Epoch [78/100], Train Loss:  0.5957, Test Loss:  0.5718\n",
            "Epoch [79/100], Train Loss:  0.5869, Test Loss:  0.5566\n",
            "Epoch [80/100], Train Loss:  0.5761, Test Loss:  0.5402\n",
            "Epoch [81/100], Train Loss:  0.5779, Test Loss:  0.5301\n",
            "Epoch [82/100], Train Loss:  0.5864, Test Loss:  0.5281\n",
            "Epoch [83/100], Train Loss:  0.5884, Test Loss:  0.5342\n",
            "Epoch [84/100], Train Loss:  0.5817, Test Loss:  0.5467\n",
            "Epoch [85/100], Train Loss:  0.5736, Test Loss:  0.5605\n",
            "Epoch [86/100], Train Loss:  0.5769, Test Loss:  0.5678\n",
            "Epoch [87/100], Train Loss:  0.5831, Test Loss:  0.5671\n",
            "Epoch [88/100], Train Loss:  0.5824, Test Loss:  0.5592\n",
            "Epoch [89/100], Train Loss:  0.5761, Test Loss:  0.5473\n",
            "Epoch [90/100], Train Loss:  0.5735, Test Loss:  0.5387\n",
            "Epoch [91/100], Train Loss:  0.5778, Test Loss:  0.5364\n",
            "Epoch [92/100], Train Loss:  0.5797, Test Loss:  0.5407\n",
            "Epoch [93/100], Train Loss:  0.5766, Test Loss:  0.5493\n",
            "Epoch [94/100], Train Loss:  0.5734, Test Loss:  0.5578\n",
            "Epoch [95/100], Train Loss:  0.5752, Test Loss:  0.5609\n",
            "Epoch [96/100], Train Loss:  0.5772, Test Loss:  0.5579\n",
            "Epoch [97/100], Train Loss:  0.5755, Test Loss:  0.5507\n",
            "Epoch [98/100], Train Loss:  0.5736, Test Loss:  0.5443\n",
            "Epoch [99/100], Train Loss:  0.5745, Test Loss:  0.5420\n",
            "Epoch [100/100], Train Loss:  0.5756, Test Loss:  0.5443\n"
          ]
        }
      ]
    },
    {
      "cell_type": "code",
      "source": [
        "rnn.eval()\n",
        "with torch.no_grad():\n",
        "    prediction = rnn(X_test).cpu().numpy()\n",
        "\n",
        "targets = Y_test.cpu().numpy()\n",
        "mse = mean_squared_error(targets, prediction)\n",
        "mae = mean_absolute_error(targets, prediction)\n",
        "r2 = r2_score(targets, prediction)\n",
        "\n",
        "print(f'Mean Squared Error (MSE): {mse:.4f}')\n",
        "print(f'Mean Absolute Error (MAE): {mae:.4f}')\n",
        "print(f'R-squared (R2): {r2:.4f}')"
      ],
      "metadata": {
        "colab": {
          "base_uri": "https://localhost:8080/"
        },
        "id": "pbSalClvF0qV",
        "outputId": "8ff933cd-de63-46cc-9770-317d8d8dd83b"
      },
      "execution_count": null,
      "outputs": [
        {
          "output_type": "stream",
          "name": "stdout",
          "text": [
            "Mean Squared Error (MSE): 0.3757\n",
            "Mean Absolute Error (MAE): 0.5443\n",
            "R-squared (R2): -0.0089\n"
          ]
        }
      ]
    },
    {
      "cell_type": "markdown",
      "source": [
        "**RESULTS AND DISCUSSION**\n",
        "\n",
        "\n",
        "\n",
        "\n",
        "1.   The MAE(Mean Absolute Error) for SimpleRNN comes out to be 0.5443, which means that on average the variables y1 and y2 predicted by the model(SimpleRNN here) are close to one another, and are off by an value of 0.5443 on an average.\n",
        "2.  Generally a low MAE value is desirable. It signifies that the model is capturing the underlying patterns in the data well and is able to predict with an high accuracy.\n",
        "\n",
        "3.  This basically tells us that the model can be used to predict the target variables i.e., h1 and h2 given the conditions of the valve at a particular time instance."
      ],
      "metadata": {
        "id": "RsUDhPucSpHa"
      }
    },
    {
      "cell_type": "markdown",
      "source": [
        "*LSTM*"
      ],
      "metadata": {
        "id": "_n_T0iRrW6g-"
      }
    },
    {
      "cell_type": "code",
      "source": [
        "class LSTM(nn.Module):\n",
        "  def __init__(self, input_size, hidden_size , num_layers, num_classes):\n",
        "    super(LSTM, self).__init__()\n",
        "    self.lstm = nn.LSTM(input_size, hidden_size, num_layers, batch_first = True)\n",
        "    self.fc = nn.Linear(hidden_size, num_classes)\n",
        "\n",
        "  def forward(self,x):\n",
        "    x = x.view(x.size(0), -1, x.size(1))\n",
        "    out,_ = self.lstm(x)\n",
        "    out = self.fc(out[:,-1,:])\n",
        "    return out"
      ],
      "metadata": {
        "id": "XYYNNIn9Sb6i"
      },
      "execution_count": null,
      "outputs": []
    },
    {
      "cell_type": "code",
      "source": [
        "lstm = LSTM(input_size, hidden_size , num_layers, num_classes).to(device)\n",
        "criterion = nn.L1Loss()\n",
        "optimizer = optim.Adam(lstm.parameters(), lr = learning_rate)"
      ],
      "metadata": {
        "id": "76wBiEkHUM6h"
      },
      "execution_count": null,
      "outputs": []
    },
    {
      "cell_type": "code",
      "source": [
        "for epoch in range(num_epochs):\n",
        "  lstm.train()\n",
        "  output = lstm(X_train)\n",
        "  loss = criterion(output, Y_train)\n",
        "  optimizer.zero_grad()\n",
        "  loss.backward()\n",
        "  optimizer.step()\n",
        "\n",
        "  lstm.eval()\n",
        "  test_outputs = lstm(X_test)\n",
        "  test_loss = criterion(test_outputs,Y_test)\n",
        "\n",
        "  print(f'Epoch [{epoch+1}/{num_epochs}], Train Loss: {loss.item(): .4f}, Test Loss: {test_loss.item(): .4f}')"
      ],
      "metadata": {
        "colab": {
          "base_uri": "https://localhost:8080/"
        },
        "id": "XXX8JpX0ULrg",
        "outputId": "94460594-b7eb-4c97-8591-47f7e8d2b9ed"
      },
      "execution_count": null,
      "outputs": [
        {
          "output_type": "stream",
          "name": "stdout",
          "text": [
            "Epoch [1/100], Train Loss:  15.0594, Test Loss:  14.7394\n",
            "Epoch [2/100], Train Loss:  14.7456, Test Loss:  14.4634\n",
            "Epoch [3/100], Train Loss:  14.4693, Test Loss:  14.1814\n",
            "Epoch [4/100], Train Loss:  14.1873, Test Loss:  13.8899\n",
            "Epoch [5/100], Train Loss:  13.8968, Test Loss:  13.6118\n",
            "Epoch [6/100], Train Loss:  13.6187, Test Loss:  13.3359\n",
            "Epoch [7/100], Train Loss:  13.3419, Test Loss:  13.0413\n",
            "Epoch [8/100], Train Loss:  13.0465, Test Loss:  12.7149\n",
            "Epoch [9/100], Train Loss:  12.7199, Test Loss:  12.3558\n",
            "Epoch [10/100], Train Loss:  12.3607, Test Loss:  11.9760\n",
            "Epoch [11/100], Train Loss:  11.9809, Test Loss:  11.5960\n",
            "Epoch [12/100], Train Loss:  11.6006, Test Loss:  11.2323\n",
            "Epoch [13/100], Train Loss:  11.2368, Test Loss:  10.8894\n",
            "Epoch [14/100], Train Loss:  10.8941, Test Loss:  10.5596\n",
            "Epoch [15/100], Train Loss:  10.5646, Test Loss:  10.2274\n",
            "Epoch [16/100], Train Loss:  10.2326, Test Loss:  9.8769\n",
            "Epoch [17/100], Train Loss:  9.8822, Test Loss:  9.4982\n",
            "Epoch [18/100], Train Loss:  9.5031, Test Loss:  9.0911\n",
            "Epoch [19/100], Train Loss:  9.0953, Test Loss:  8.6665\n",
            "Epoch [20/100], Train Loss:  8.6702, Test Loss:  8.2403\n",
            "Epoch [21/100], Train Loss:  8.2440, Test Loss:  7.8249\n",
            "Epoch [22/100], Train Loss:  7.8291, Test Loss:  7.4259\n",
            "Epoch [23/100], Train Loss:  7.4306, Test Loss:  7.0415\n",
            "Epoch [24/100], Train Loss:  7.0466, Test Loss:  6.6625\n",
            "Epoch [25/100], Train Loss:  6.6679, Test Loss:  6.2806\n",
            "Epoch [26/100], Train Loss:  6.2863, Test Loss:  5.8938\n",
            "Epoch [27/100], Train Loss:  5.8996, Test Loss:  5.5064\n",
            "Epoch [28/100], Train Loss:  5.5120, Test Loss:  5.1225\n",
            "Epoch [29/100], Train Loss:  5.1279, Test Loss:  4.7419\n",
            "Epoch [30/100], Train Loss:  4.7471, Test Loss:  4.3625\n",
            "Epoch [31/100], Train Loss:  4.3676, Test Loss:  3.9830\n",
            "Epoch [32/100], Train Loss:  3.9881, Test Loss:  3.6032\n",
            "Epoch [33/100], Train Loss:  3.6082, Test Loss:  3.2229\n",
            "Epoch [34/100], Train Loss:  3.2280, Test Loss:  2.8424\n",
            "Epoch [35/100], Train Loss:  2.8475, Test Loss:  2.4617\n",
            "Epoch [36/100], Train Loss:  2.4668, Test Loss:  2.0809\n",
            "Epoch [37/100], Train Loss:  2.0860, Test Loss:  1.6999\n",
            "Epoch [38/100], Train Loss:  1.7049, Test Loss:  1.3184\n",
            "Epoch [39/100], Train Loss:  1.3235, Test Loss:  0.9358\n",
            "Epoch [40/100], Train Loss:  0.9416, Test Loss:  0.6540\n",
            "Epoch [41/100], Train Loss:  0.7408, Test Loss:  0.5734\n",
            "Epoch [42/100], Train Loss:  0.6141, Test Loss:  0.5714\n",
            "Epoch [43/100], Train Loss:  0.6234, Test Loss:  0.6439\n",
            "Epoch [44/100], Train Loss:  0.7243, Test Loss:  0.7668\n",
            "Epoch [45/100], Train Loss:  0.8139, Test Loss:  0.9290\n",
            "Epoch [46/100], Train Loss:  0.9314, Test Loss:  1.0663\n",
            "Epoch [47/100], Train Loss:  1.0611, Test Loss:  1.1538\n",
            "Epoch [48/100], Train Loss:  1.1486, Test Loss:  1.1962\n",
            "Epoch [49/100], Train Loss:  1.1910, Test Loss:  1.1955\n",
            "Epoch [50/100], Train Loss:  1.1904, Test Loss:  1.1549\n",
            "Epoch [51/100], Train Loss:  1.1498, Test Loss:  1.0784\n",
            "Epoch [52/100], Train Loss:  1.0734, Test Loss:  0.9696\n",
            "Epoch [53/100], Train Loss:  0.9654, Test Loss:  0.8333\n",
            "Epoch [54/100], Train Loss:  0.8521, Test Loss:  0.7208\n",
            "Epoch [55/100], Train Loss:  0.7937, Test Loss:  0.6597\n",
            "Epoch [56/100], Train Loss:  0.7410, Test Loss:  0.6155\n",
            "Epoch [57/100], Train Loss:  0.6899, Test Loss:  0.6068\n",
            "Epoch [58/100], Train Loss:  0.6404, Test Loss:  0.6039\n",
            "Epoch [59/100], Train Loss:  0.6189, Test Loss:  0.5999\n",
            "Epoch [60/100], Train Loss:  0.6150, Test Loss:  0.5940\n",
            "Epoch [61/100], Train Loss:  0.6142, Test Loss:  0.5890\n",
            "Epoch [62/100], Train Loss:  0.6428, Test Loss:  0.5887\n",
            "Epoch [63/100], Train Loss:  0.6693, Test Loss:  0.6006\n",
            "Epoch [64/100], Train Loss:  0.6888, Test Loss:  0.6131\n",
            "Epoch [65/100], Train Loss:  0.7015, Test Loss:  0.6199\n",
            "Epoch [66/100], Train Loss:  0.7079, Test Loss:  0.6208\n",
            "Epoch [67/100], Train Loss:  0.7086, Test Loss:  0.6163\n",
            "Epoch [68/100], Train Loss:  0.7041, Test Loss:  0.6068\n",
            "Epoch [69/100], Train Loss:  0.6948, Test Loss:  0.5930\n",
            "Epoch [70/100], Train Loss:  0.6814, Test Loss:  0.5759\n",
            "Epoch [71/100], Train Loss:  0.6643, Test Loss:  0.5588\n",
            "Epoch [72/100], Train Loss:  0.6440, Test Loss:  0.5483\n",
            "Epoch [73/100], Train Loss:  0.6210, Test Loss:  0.5449\n",
            "Epoch [74/100], Train Loss:  0.5959, Test Loss:  0.5438\n",
            "Epoch [75/100], Train Loss:  0.5753, Test Loss:  0.5457\n",
            "Epoch [76/100], Train Loss:  0.5837, Test Loss:  0.5489\n",
            "Epoch [77/100], Train Loss:  0.6023, Test Loss:  0.5521\n",
            "Epoch [78/100], Train Loss:  0.6151, Test Loss:  0.5549\n",
            "Epoch [79/100], Train Loss:  0.6218, Test Loss:  0.5569\n",
            "Epoch [80/100], Train Loss:  0.6229, Test Loss:  0.5583\n",
            "Epoch [81/100], Train Loss:  0.6188, Test Loss:  0.5592\n",
            "Epoch [82/100], Train Loss:  0.6102, Test Loss:  0.5602\n",
            "Epoch [83/100], Train Loss:  0.5975, Test Loss:  0.5615\n",
            "Epoch [84/100], Train Loss:  0.5841, Test Loss:  0.5618\n",
            "Epoch [85/100], Train Loss:  0.5778, Test Loss:  0.5594\n",
            "Epoch [86/100], Train Loss:  0.5808, Test Loss:  0.5562\n",
            "Epoch [87/100], Train Loss:  0.5892, Test Loss:  0.5532\n",
            "Epoch [88/100], Train Loss:  0.5953, Test Loss:  0.5507\n",
            "Epoch [89/100], Train Loss:  0.5962, Test Loss:  0.5484\n",
            "Epoch [90/100], Train Loss:  0.5922, Test Loss:  0.5465\n",
            "Epoch [91/100], Train Loss:  0.5841, Test Loss:  0.5453\n",
            "Epoch [92/100], Train Loss:  0.5757, Test Loss:  0.5456\n",
            "Epoch [93/100], Train Loss:  0.5746, Test Loss:  0.5474\n",
            "Epoch [94/100], Train Loss:  0.5799, Test Loss:  0.5495\n",
            "Epoch [95/100], Train Loss:  0.5847, Test Loss:  0.5515\n",
            "Epoch [96/100], Train Loss:  0.5852, Test Loss:  0.5531\n",
            "Epoch [97/100], Train Loss:  0.5816, Test Loss:  0.5542\n",
            "Epoch [98/100], Train Loss:  0.5764, Test Loss:  0.5544\n",
            "Epoch [99/100], Train Loss:  0.5736, Test Loss:  0.5534\n",
            "Epoch [100/100], Train Loss:  0.5758, Test Loss:  0.5516\n"
          ]
        }
      ]
    },
    {
      "cell_type": "code",
      "source": [
        "lstm.eval()\n",
        "with torch.no_grad():\n",
        "    prediction = lstm(X_test).cpu().numpy()\n",
        "\n",
        "targets = Y_test.cpu().numpy()\n",
        "mse = mean_squared_error(targets, prediction)\n",
        "mae = mean_absolute_error(targets, prediction)\n",
        "r2 = r2_score(targets, prediction)\n",
        "\n",
        "print(f'Mean Squared Error (MSE): {mse:.4f}')\n",
        "print(f'Mean Absolute Error (MAE): {mae:.4f}')\n",
        "print(f'R-squared (R2): {r2:.4f}')"
      ],
      "metadata": {
        "colab": {
          "base_uri": "https://localhost:8080/"
        },
        "id": "BCObzFzInxT3",
        "outputId": "e9553da6-3580-4bc3-983e-bd60bf79db87"
      },
      "execution_count": null,
      "outputs": [
        {
          "output_type": "stream",
          "name": "stdout",
          "text": [
            "Mean Squared Error (MSE): 0.3766\n",
            "Mean Absolute Error (MAE): 0.5516\n",
            "R-squared (R2): -0.0111\n"
          ]
        }
      ]
    },
    {
      "cell_type": "markdown",
      "source": [
        "**RESULTS AND DISCUSSIONS FOR PART B**\n",
        "\n",
        "SimpleRNN MAE value = 0.5443\n",
        "\n",
        "LSTM MAE value = 0.5516\n",
        "\n",
        "We got a nearly same value of the MAE for both the models so we can conclude the following things from this:\n",
        "\n",
        "1. If the accuracies or errors are nearly comparable we can conclude that RNN model might be a better option than a LSTM model as it computationally more efficient.  \n",
        "2. We conclude that the dataset is limited and has simple patterns which can be predicted by RNN.\n",
        "\n"
      ],
      "metadata": {
        "id": "fRsOZTMSXCYT"
      }
    },
    {
      "cell_type": "markdown",
      "source": [
        "*PART C*"
      ],
      "metadata": {
        "id": "2CaH6xXvXKWZ"
      }
    },
    {
      "cell_type": "code",
      "source": [
        "def rnn_models(X_train,Y_train,X_test,Y_test,rnn_type = 1):\n",
        "  x1 = X_train[:30000]\n",
        "  x2 = X_train[30000:60000]\n",
        "  x3 = X_train[60000:]\n",
        "  y1 = Y_train[:30000]\n",
        "  y2 = Y_train[30000:60000]\n",
        "  y3 = Y_train[60000:]\n",
        "  x1t = X_test[:20000]\n",
        "  y1t = Y_test[:20000]\n",
        "  x2t = X_test[20000:40000]\n",
        "  y2t = Y_test[20000:40000]\n",
        "  x3t = X_test[40000:]\n",
        "  y3t = Y_test[40000:]\n",
        "  if rnn_type == 1:\n",
        "    num_loss = float('inf')\n",
        "    rnn1 = RNN().to(device)\n",
        "    num_epochs = 100\n",
        "    optimizer = optim.Adam(rnn1.parameters(), lr = learning_rate)\n",
        "    ep = 0\n",
        "    for epoch in range(num_epochs):\n",
        "      rnn1.train()\n",
        "      outputs = rnn1(x1)\n",
        "      loss = criterion(outputs,y1)\n",
        "      optimizer.zero_grad()\n",
        "      loss.backward()\n",
        "      optimizer.step()\n",
        "\n",
        "      rnn1.eval()\n",
        "      val_outputs = rnn1(x1t)\n",
        "      val_loss = criterion(val_outputs,y1t)\n",
        "\n",
        "      if val_loss < num_loss:\n",
        "        num_loss = val_loss\n",
        "        ep = epoch\n",
        "    print(f\"For Model {rnn_type} at epoch {ep} the minimum loss found is {num_loss}\")\n",
        "  elif rnn_type == 2:\n",
        "    num_loss = float('inf')\n",
        "    rnn2 = RNN().to(device)\n",
        "    num_epochs = 100\n",
        "    optimizer = optim.Adam(rnn2.parameters(), lr = learning_rate)\n",
        "    ep = 0\n",
        "    for epoch in range(num_epochs):\n",
        "      rnn2.train()\n",
        "      outputs = rnn2(x2)\n",
        "      loss = criterion(outputs,y2)\n",
        "      optimizer.zero_grad()\n",
        "      loss.backward()\n",
        "      optimizer.step()\n",
        "\n",
        "      rnn2.eval()\n",
        "      val_outputs = rnn2(x2t)\n",
        "      val_loss = criterion(val_outputs,y2t)\n",
        "\n",
        "      if val_loss < num_loss:\n",
        "        num_loss = val_loss\n",
        "        ep = epoch\n",
        "    print(f\"For Model {rnn_type} at epoch {ep} the minimum loss found is {num_loss}\")\n",
        "  elif rnn_type == 3:\n",
        "    num_loss = float('inf')\n",
        "    rnn3 = RNN().to(device)\n",
        "    num_epochs = 100\n",
        "    optimizer = optim.Adam(rnn3.parameters(), lr = learning_rate)\n",
        "    ep = 0\n",
        "    for epoch in range(num_epochs):\n",
        "      rnn3.train()\n",
        "      outputs = rnn3(x3)\n",
        "      loss = criterion(outputs,y3)\n",
        "      optimizer.zero_grad()\n",
        "      loss.backward()\n",
        "      optimizer.step()\n",
        "\n",
        "      rnn3.eval()\n",
        "      val_outputs = rnn3(x3t)\n",
        "      val_loss = criterion(val_outputs,y3t)\n",
        "\n",
        "      if val_loss < num_loss:\n",
        "        num_loss = val_loss\n",
        "        ep = epoch\n",
        "    print(f\"For Model {rnn_type} at epoch {ep} the minimum loss found is {num_loss}\")\n",
        "for i in range(1,4):\n",
        "  rnn_models(X_train,Y_train,X_test,Y_test,i)"
      ],
      "metadata": {
        "colab": {
          "base_uri": "https://localhost:8080/"
        },
        "id": "iYIuqdr3m356",
        "outputId": "becda3b2-5b33-4967-f4d3-161ce1f79881"
      },
      "execution_count": null,
      "outputs": [
        {
          "output_type": "stream",
          "name": "stdout",
          "text": [
            "For Model 1 at epoch 66 the minimum loss found is 0.1420993059873581\n",
            "For Model 2 at epoch 57 the minimum loss found is 0.13728472590446472\n",
            "For Model 3 at epoch 45 the minimum loss found is 0.13565777242183685\n"
          ]
        }
      ]
    },
    {
      "cell_type": "code",
      "source": [
        "def lstm_models(X_train,Y_train,X_test,Y_test,lstm_type = 1):\n",
        "  x1 = X_train[:30000]\n",
        "  x2 = X_train[30000:60000]\n",
        "  x3 = X_train[60000:]\n",
        "  y1 = Y_train[:30000]\n",
        "  y2 = Y_train[30000:60000]\n",
        "  y3 = Y_train[60000:]\n",
        "  x1t = X_test[:20000]\n",
        "  y1t = Y_test[:20000]\n",
        "  x2t = X_test[20000:40000]\n",
        "  y2t = Y_test[20000:40000]\n",
        "  x3t = X_test[40000:]\n",
        "  y3t = Y_test[40000:]\n",
        "  global input_size,hidden_size,num_layers,num_classes\n",
        "  if lstm_type == 1:\n",
        "    num_loss = float('inf')\n",
        "    lstm1 = LSTM(input_size,hidden_size,num_layers,num_classes).to(device)\n",
        "    num_epochs = 100\n",
        "    optimizer = optim.Adam(lstm1.parameters(), lr = learning_rate)\n",
        "    ep = 0\n",
        "    for epoch in range(num_epochs):\n",
        "      lstm1.train()\n",
        "      outputs = lstm1(x1)\n",
        "      loss = criterion(outputs,y1)\n",
        "      optimizer.zero_grad()\n",
        "      loss.backward()\n",
        "      optimizer.step()\n",
        "\n",
        "      lstm1.eval()\n",
        "      val_outputs = lstm1(x1t)\n",
        "      val_loss = criterion(val_outputs,y1t)\n",
        "\n",
        "      if val_loss < num_loss:\n",
        "        num_loss = val_loss\n",
        "        ep = epoch\n",
        "    print(f\"For Model {lstm_type} at epoch {ep} the minimum loss found is {num_loss}\")\n",
        "  elif lstm_type == 2:\n",
        "    num_loss = float('inf')\n",
        "    lstm2 = LSTM(input_size,hidden_size,num_layers,num_classes).to(device)\n",
        "    num_epochs = 100\n",
        "    optimizer = optim.Adam(lstm2.parameters(), lr = learning_rate)\n",
        "    ep = 0\n",
        "    for epoch in range(num_epochs):\n",
        "      lstm2.train()\n",
        "      outputs = lstm2(x2)\n",
        "      loss = criterion(outputs,y2)\n",
        "      optimizer.zero_grad()\n",
        "      loss.backward()\n",
        "      optimizer.step()\n",
        "\n",
        "      lstm2.eval()\n",
        "      val_outputs = lstm2(x2t)\n",
        "      val_loss = criterion(val_outputs,y2t)\n",
        "\n",
        "      if val_loss < num_loss:\n",
        "        num_loss = val_loss\n",
        "        ep = epoch\n",
        "    print(f\"For Model {lstm_type} at epoch {ep} the minimum loss found is {num_loss}\")\n",
        "  elif lstm_type == 3:\n",
        "    num_loss = float('inf')\n",
        "    lstm3 = LSTM(input_size,hidden_size,num_layers,num_classes).to(device)\n",
        "    num_epochs = 100\n",
        "    optimizer = optim.Adam(lstm3.parameters(), lr = learning_rate)\n",
        "    ep = 0\n",
        "    for epoch in range(num_epochs):\n",
        "      lstm3.train()\n",
        "      outputs = lstm3(x3)\n",
        "      loss = criterion(outputs,y3)\n",
        "      optimizer.zero_grad()\n",
        "      loss.backward()\n",
        "      optimizer.step()\n",
        "\n",
        "      lstm3.eval()\n",
        "      val_outputs = lstm3(x3t)\n",
        "      val_loss = criterion(val_outputs,y3t)\n",
        "\n",
        "      if val_loss < num_loss:\n",
        "        num_loss = val_loss\n",
        "        ep = epoch\n",
        "    print(f\"For Model {lstm_type} at epoch {ep} the minimum loss found is {num_loss}\")\n",
        "for i in range(1,4):\n",
        "  lstm_models(X_train,Y_train,X_test,Y_test,i)"
      ],
      "metadata": {
        "colab": {
          "base_uri": "https://localhost:8080/"
        },
        "id": "y-LMmBZtEFl6",
        "outputId": "74a15dc7-c253-4829-fffd-d077202829e6"
      },
      "execution_count": null,
      "outputs": [
        {
          "output_type": "stream",
          "name": "stdout",
          "text": [
            "For Model 1 at epoch 62 the minimum loss found is 0.17056094110012054\n",
            "For Model 2 at epoch 78 the minimum loss found is 0.12846846878528595\n",
            "For Model 3 at epoch 79 the minimum loss found is 0.2538486421108246\n"
          ]
        }
      ]
    },
    {
      "cell_type": "markdown",
      "source": [
        "**RESULTS AND DISCUSSIONS FOR PART C**\n",
        "\n",
        "In this part we basically split the dataset into 3 regions based on their operating conditions that is the value of V1 and V2 , we observed that the regions vary with the time , so we split it according to the time instances.\n",
        "\n",
        "\n",
        "\n",
        "\n",
        "*   Next, we modeled the three splitted dataset using 3 RNNS and 3 LSTMS to check for accuracy of the predictions.\n",
        "*   For the RNN we concluded that the loss is minimum for model 3 at epoch 45 , similar we can conclude that how many epochs are needed for the minimum loss from each model using these 3 model system.\n",
        "\n",
        "\n",
        "\n"
      ],
      "metadata": {
        "id": "YL2efi5SOxpZ"
      }
    },
    {
      "cell_type": "markdown",
      "source": [
        "*PART D: THE NEURO-FUZZY MODEL*\n",
        "\n",
        "\n",
        "Implementation:\n",
        "1. Firstly , we will define a fuzzy logic i.e, say low, medium or high.This will be based on the region of splitting.\n",
        "2. We will use a fuzzifier(A function) for converting the splitted data into the 3 fuzzy logics as defined earlier.\n",
        "3. Then we will also add the inputs in the fuzzy form.\n",
        "4. We will predict the output which will also be in a fuzzy logic using fuzzy rules.\n",
        "5. We will use a defuzzifier to get the result in the original format.  "
      ],
      "metadata": {
        "id": "NzAPLJ-mXYDd"
      }
    }
  ]
}